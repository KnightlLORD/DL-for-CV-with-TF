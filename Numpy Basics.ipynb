{
 "cells": [
  {
   "cell_type": "code",
   "execution_count": 13,
   "id": "5c924028-4549-4be0-8ab5-9412bb3428a0",
   "metadata": {
    "tags": []
   },
   "outputs": [],
   "source": [
    "import numpy as np"
   ]
  },
  {
   "cell_type": "code",
   "execution_count": 14,
   "id": "f3db150e-578a-4e27-9895-cca77ab077bc",
   "metadata": {
    "tags": []
   },
   "outputs": [
    {
     "name": "stdout",
     "output_type": "stream",
     "text": [
      "(3, 4)\n",
      "(4, 5)\n"
     ]
    }
   ],
   "source": [
    "A = np.array([[2,6,5,2],\n",
    "             [2,-2,2,3],\n",
    "             [1,5,4,0]])\n",
    "\n",
    "B = np.array([[2,9,0,3,0],\n",
    "             [3,6,4,-2,2],\n",
    "             [1,3,5,0,1],\n",
    "             [3,0,2,0,5]])\n",
    "\n",
    "print(A.shape)\n",
    "print(B.shape)"
   ]
  },
  {
   "cell_type": "code",
   "execution_count": 15,
   "id": "bf674096-6654-48c6-a297-39a3b97cbf23",
   "metadata": {
    "tags": []
   },
   "outputs": [
    {
     "name": "stdout",
     "output_type": "stream",
     "text": [
      "[[33 69 53 -6 27]\n",
      " [ 9 12  8 10 13]\n",
      " [21 51 40 -7 14]]\n"
     ]
    }
   ],
   "source": [
    "print(np.matmul(A,B))  # Matrix Multiplication"
   ]
  },
  {
   "cell_type": "markdown",
   "id": "36dbd58c-2d6e-4615-a9f4-0e9ae95e828d",
   "metadata": {},
   "source": [
    "#### Einsum is powerful function that combines multiple functions of numpy"
   ]
  },
  {
   "cell_type": "code",
   "execution_count": 20,
   "id": "2a6696df-5d75-4754-9e50-d6e510f17349",
   "metadata": {
    "tags": []
   },
   "outputs": [
    {
     "name": "stdout",
     "output_type": "stream",
     "text": [
      "[[33  9 21]\n",
      " [69 12 51]\n",
      " [53  8 40]\n",
      " [-6 10 -7]\n",
      " [27 13 14]]\n"
     ]
    }
   ],
   "source": [
    " print(np.einsum(\"ij, jk -> ki\", A, B))   # Matrix Multiplication followed by transpose"
   ]
  },
  {
   "cell_type": "code",
   "execution_count": 21,
   "id": "0da3e229-56eb-4b99-825d-0fa60dc0256a",
   "metadata": {
    "tags": []
   },
   "outputs": [
    {
     "name": "stdout",
     "output_type": "stream",
     "text": [
      "[[33 69 53 -6 27]\n",
      " [ 9 12  8 10 13]\n",
      " [21 51 40 -7 14]]\n"
     ]
    }
   ],
   "source": [
    "print(np.einsum(\"ij, jk -> ik\", A, B)) # Matrix Multiplication"
   ]
  },
  {
   "cell_type": "code",
   "execution_count": 22,
   "id": "5b730d52-0807-415a-ad36-7abdd9cccac8",
   "metadata": {
    "tags": []
   },
   "outputs": [
    {
     "name": "stdout",
     "output_type": "stream",
     "text": [
      "[[  4  54   0   6]\n",
      " [  6 -12   8  -6]\n",
      " [  1  15  20   0]]\n"
     ]
    }
   ],
   "source": [
    "B_new = np.array([[2,9,0,3],\n",
    "             [3,6,4,-2],\n",
    "             [1,3,5,0]])\n",
    "\n",
    "print(np.einsum(\"ij, ij -> ij\", A, B_new)) # Simple Multiplication"
   ]
  },
  {
   "cell_type": "code",
   "execution_count": 23,
   "id": "7be8253f-b7fa-410b-9d9e-340e96daca3f",
   "metadata": {
    "tags": []
   },
   "outputs": [
    {
     "name": "stdout",
     "output_type": "stream",
     "text": [
      "[[ 2  2  1]\n",
      " [ 6 -2  5]\n",
      " [ 5  2  4]\n",
      " [ 2  3  0]]\n"
     ]
    }
   ],
   "source": [
    "print(np.einsum(\"ij->ji\",A)) # Transpose"
   ]
  },
  {
   "cell_type": "markdown",
   "id": "d04df06e-9e49-4f85-a951-699a83e07fb4",
   "metadata": {},
   "source": [
    "### Three dimensional matrix multiplication"
   ]
  },
  {
   "cell_type": "code",
   "execution_count": 25,
   "id": "48e1de35-ab65-4467-88e7-2f98593a4a0f",
   "metadata": {
    "tags": []
   },
   "outputs": [
    {
     "name": "stdout",
     "output_type": "stream",
     "text": [
      "(2, 3, 4) (2, 4, 5)\n"
     ]
    }
   ],
   "source": [
    "A3 = np.array([[[2,6,5,2],\n",
    "                [2,-2,2,3],\n",
    "                [1,5,4,0]],\n",
    "              [[1,3,1,22],\n",
    "               [0,2,2,0],\n",
    "               [1,5,4,1]] ])\n",
    "\n",
    "B3 = np.array([[[1,9,0,3,0],\n",
    "                [3,6,8,-2,2],\n",
    "                [1,3,5,0,1],\n",
    "                [3,0,2,0,5]],\n",
    "              [[1,0,0,3,0],\n",
    "               [3,0,4,-2,2],\n",
    "               [1,0,2,0,0],\n",
    "               [3,0,1,1,0]] ])\n",
    "print(A3.shape,B3.shape)"
   ]
  },
  {
   "cell_type": "code",
   "execution_count": 26,
   "id": "d51e1226-d3e8-4dd1-a647-a5baca638551",
   "metadata": {
    "tags": []
   },
   "outputs": [
    {
     "name": "stdout",
     "output_type": "stream",
     "text": [
      "[[[31 69 77 -6 27]\n",
      "  [ 7 12  0 10 13]\n",
      "  [20 51 60 -7 14]]\n",
      "\n",
      " [[77  0 36 19  6]\n",
      "  [ 8  0 12 -4  4]\n",
      "  [23  0 29 -6 10]]]\n"
     ]
    }
   ],
   "source": [
    "print(np.matmul(A3,B3))"
   ]
  },
  {
   "cell_type": "code",
   "execution_count": 29,
   "id": "9b5456bc-9351-4342-a1e8-78c80be7e1dd",
   "metadata": {
    "tags": []
   },
   "outputs": [
    {
     "name": "stdout",
     "output_type": "stream",
     "text": [
      "[[[31 69 77 -6 27]\n",
      "  [ 7 12  0 10 13]\n",
      "  [20 51 60 -7 14]]\n",
      "\n",
      " [[77  0 36 19  6]\n",
      "  [ 8  0 12 -4  4]\n",
      "  [23  0 29 -6 10]]]\n"
     ]
    }
   ],
   "source": [
    "print(np.einsum(\"bij,bjk -> bik\",A3,B3))"
   ]
  },
  {
   "cell_type": "code",
   "execution_count": 30,
   "id": "ce68c538-9476-4ce6-b87d-cba28b385d16",
   "metadata": {
    "tags": []
   },
   "outputs": [
    {
     "name": "stdout",
     "output_type": "stream",
     "text": [
      "72\n"
     ]
    }
   ],
   "source": [
    " print(np.sum(A3))"
   ]
  },
  {
   "cell_type": "code",
   "execution_count": 32,
   "id": "b4a8ce5a-6f49-4e4b-b8aa-179b49202ec8",
   "metadata": {
    "tags": []
   },
   "outputs": [
    {
     "name": "stdout",
     "output_type": "stream",
     "text": [
      "72\n"
     ]
    }
   ],
   "source": [
    "print(np.einsum(\"bij -> \",A3)) # Summing up all elements"
   ]
  },
  {
   "cell_type": "code",
   "execution_count": 36,
   "id": "7336dd5a-1fe5-4b85-bde8-0c9550713162",
   "metadata": {
    "tags": []
   },
   "outputs": [],
   "source": [
    "Q = np.random.randn(32,64,512)\n",
    "K = np.random.randn(32,128,512)"
   ]
  },
  {
   "cell_type": "code",
   "execution_count": 37,
   "id": "0accda7e-e848-4065-9f90-a591975a17e5",
   "metadata": {
    "tags": []
   },
   "outputs": [
    {
     "data": {
      "text/plain": [
       "(32, 64, 128)"
      ]
     },
     "execution_count": 37,
     "metadata": {},
     "output_type": "execute_result"
    }
   ],
   "source": [
    "np.einsum(\"bqm,bkm -> bqk\",Q,K).shape"
   ]
  },
  {
   "cell_type": "code",
   "execution_count": null,
   "id": "e602b254-3fed-43ab-83d6-2257017c8933",
   "metadata": {},
   "outputs": [],
   "source": []
  }
 ],
 "metadata": {
  "kernelspec": {
   "display_name": "Python 3 (ipykernel)",
   "language": "python",
   "name": "python3"
  },
  "language_info": {
   "codemirror_mode": {
    "name": "ipython",
    "version": 3
   },
   "file_extension": ".py",
   "mimetype": "text/x-python",
   "name": "python",
   "nbconvert_exporter": "python",
   "pygments_lexer": "ipython3",
   "version": "3.9.16"
  }
 },
 "nbformat": 4,
 "nbformat_minor": 5
}
