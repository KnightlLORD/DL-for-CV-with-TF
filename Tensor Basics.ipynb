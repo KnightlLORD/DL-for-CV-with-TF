{
 "cells": [
  {
   "cell_type": "code",
   "execution_count": 1,
   "id": "e4bb3098-92ac-479d-81a5-b33425d7c160",
   "metadata": {
    "tags": []
   },
   "outputs": [],
   "source": [
    "import tensorflow as tf\n",
    "from tensorflow import keras"
   ]
  },
  {
   "cell_type": "markdown",
   "id": "a61a3027-d4b1-4fdf-b4fa-15f0d5325fa2",
   "metadata": {},
   "source": [
    "# Tensors"
   ]
  },
  {
   "cell_type": "markdown",
   "id": "71a2fe7d-937e-4c62-b8a9-648764717332",
   "metadata": {
    "tags": []
   },
   "source": [
    "## Zero, One, Two and Three Dimensional"
   ]
  },
  {
   "cell_type": "code",
   "execution_count": 2,
   "id": "9ab64ee6-9cc7-46ab-a9d3-0a2f5fc2f930",
   "metadata": {
    "tags": []
   },
   "outputs": [],
   "source": [
    "zerod = tf.constant(4)"
   ]
  },
  {
   "cell_type": "code",
   "execution_count": 3,
   "id": "02ed44b8-4fe3-46fb-82f8-0be1b35bef96",
   "metadata": {
    "tags": []
   },
   "outputs": [
    {
     "name": "stdout",
     "output_type": "stream",
     "text": [
      "Zero Dimensional Tensor\n",
      " tf.Tensor(4, shape=(), dtype=int32)\n"
     ]
    }
   ],
   "source": [
    "print(\"Zero Dimensional Tensor\\n\",zerod)"
   ]
  },
  {
   "cell_type": "code",
   "execution_count": 4,
   "id": "1b813f95-c873-4647-a450-19e0fd2eac84",
   "metadata": {
    "tags": []
   },
   "outputs": [],
   "source": [
    "oned = tf.constant([1,2,3])"
   ]
  },
  {
   "cell_type": "code",
   "execution_count": 5,
   "id": "280c2fec-29d3-4118-8761-d451338aede8",
   "metadata": {
    "tags": []
   },
   "outputs": [
    {
     "name": "stdout",
     "output_type": "stream",
     "text": [
      "One Dimensional Tensor\n",
      " tf.Tensor([1 2 3], shape=(3,), dtype=int32)\n"
     ]
    }
   ],
   "source": [
    "print(\"One Dimensional Tensor\\n\",oned)"
   ]
  },
  {
   "cell_type": "code",
   "execution_count": 6,
   "id": "151dd479-8054-4f25-a9c2-2b7684fff62f",
   "metadata": {
    "tags": []
   },
   "outputs": [],
   "source": [
    "twod = tf.constant([[1,2,3],[4,5,6]])"
   ]
  },
  {
   "cell_type": "code",
   "execution_count": 7,
   "id": "9f334c79-43c5-47de-8229-512ea2d24702",
   "metadata": {
    "tags": []
   },
   "outputs": [
    {
     "name": "stdout",
     "output_type": "stream",
     "text": [
      "Two Dimensional Tensor\n",
      " tf.Tensor(\n",
      "[[1 2 3]\n",
      " [4 5 6]], shape=(2, 3), dtype=int32)\n"
     ]
    }
   ],
   "source": [
    "print(\"Two Dimensional Tensor\\n\",twod)"
   ]
  },
  {
   "cell_type": "code",
   "execution_count": 8,
   "id": "4e6ab8fc-e630-4e3f-ad91-2583c72fdceb",
   "metadata": {
    "tags": []
   },
   "outputs": [],
   "source": [
    "threed = tf.constant([[[1,2,3],[4,5,6]],[[7,8,9],[0,1,5]],[[7,9,6],[4,2,8]]])"
   ]
  },
  {
   "cell_type": "code",
   "execution_count": 9,
   "id": "bb2cc938-ef8c-4c67-bdef-7984bda01e3e",
   "metadata": {
    "tags": []
   },
   "outputs": [
    {
     "name": "stdout",
     "output_type": "stream",
     "text": [
      "Three Dimensional Tensor\n",
      " tf.Tensor(\n",
      "[[[1 2 3]\n",
      "  [4 5 6]]\n",
      "\n",
      " [[7 8 9]\n",
      "  [0 1 5]]\n",
      "\n",
      " [[7 9 6]\n",
      "  [4 2 8]]], shape=(3, 2, 3), dtype=int32)\n"
     ]
    }
   ],
   "source": [
    "print(\"Three Dimensional Tensor\\n\",threed)"
   ]
  },
  {
   "cell_type": "markdown",
   "id": "ff0a77fd-aa7c-4d81-a54a-0a529d3a7a56",
   "metadata": {},
   "source": [
    "## Changing Datatypes"
   ]
  },
  {
   "cell_type": "code",
   "execution_count": 10,
   "id": "8771796e-c3de-4bcd-b0fd-41e965e9a812",
   "metadata": {
    "tags": []
   },
   "outputs": [],
   "source": [
    "oned2 = tf.constant([1,2,3],dtype=tf.float32)"
   ]
  },
  {
   "cell_type": "markdown",
   "id": "aebec251-256e-4993-8f85-b48fbfa4e253",
   "metadata": {
    "tags": []
   },
   "source": [
    "print(oned2)"
   ]
  },
  {
   "cell_type": "markdown",
   "id": "25c8d988-e62a-44d2-bef9-1c772c396b09",
   "metadata": {},
   "source": [
    "# Casting"
   ]
  },
  {
   "cell_type": "code",
   "execution_count": 11,
   "id": "e734edc2-2626-4384-bf27-e65b0ec543f4",
   "metadata": {
    "tags": []
   },
   "outputs": [],
   "source": [
    "oned2 = tf.cast(oned2,tf.int32)"
   ]
  },
  {
   "cell_type": "code",
   "execution_count": 12,
   "id": "90ed51dd-8745-4012-964c-c3f7d97df090",
   "metadata": {
    "tags": []
   },
   "outputs": [
    {
     "name": "stdout",
     "output_type": "stream",
     "text": [
      "tf.Tensor([1 2 3], shape=(3,), dtype=int32)\n"
     ]
    }
   ],
   "source": [
    "print(oned2)"
   ]
  },
  {
   "cell_type": "markdown",
   "id": "d69b513f-6f18-4515-9a76-32bb61eac5a7",
   "metadata": {},
   "source": [
    "## Array to Tensors"
   ]
  },
  {
   "cell_type": "code",
   "execution_count": 13,
   "id": "55d78d32-8a7b-4ff9-b749-6b2540fa12a4",
   "metadata": {
    "tags": []
   },
   "outputs": [],
   "source": [
    "import numpy as np"
   ]
  },
  {
   "cell_type": "code",
   "execution_count": 14,
   "id": "d5a33b5f-a9e3-4d23-9c27-b0e37e405090",
   "metadata": {
    "tags": []
   },
   "outputs": [],
   "source": [
    "arr = np.array([1,2,3])"
   ]
  },
  {
   "cell_type": "code",
   "execution_count": 15,
   "id": "6c2e0968-e6b5-4310-b906-a6302c14cf28",
   "metadata": {
    "tags": []
   },
   "outputs": [],
   "source": [
    "converted_tensor = tf.convert_to_tensor(arr)"
   ]
  },
  {
   "cell_type": "code",
   "execution_count": 16,
   "id": "1dc54743-109a-4af3-b2c1-d8950110dfaa",
   "metadata": {
    "tags": []
   },
   "outputs": [
    {
     "name": "stdout",
     "output_type": "stream",
     "text": [
      "tf.Tensor([1 2 3], shape=(3,), dtype=int32)\n"
     ]
    }
   ],
   "source": [
    "print(converted_tensor)"
   ]
  },
  {
   "cell_type": "markdown",
   "id": "176aa2e2-39d5-4c65-bb57-a8f4524e9c58",
   "metadata": {},
   "source": [
    "# Identity Tensor"
   ]
  },
  {
   "cell_type": "code",
   "execution_count": 17,
   "id": "658657a1-f189-4e44-a6ff-bdc0fd79e605",
   "metadata": {
    "tags": []
   },
   "outputs": [
    {
     "name": "stdout",
     "output_type": "stream",
     "text": [
      "tf.Tensor(\n",
      "[[1. 0. 0.]\n",
      " [0. 1. 0.]\n",
      " [0. 0. 1.]], shape=(3, 3), dtype=float32)\n"
     ]
    }
   ],
   "source": [
    "eye_tensor = tf.eye(num_rows=3,num_columns=None,batch_shape=None,dtype=tf.dtypes.float32,name=None)\n",
    "print(eye_tensor)"
   ]
  },
  {
   "cell_type": "code",
   "execution_count": 18,
   "id": "72d63c46-13b4-4c32-b562-685fcfc081fb",
   "metadata": {
    "tags": []
   },
   "outputs": [
    {
     "name": "stdout",
     "output_type": "stream",
     "text": [
      "tf.Tensor(\n",
      "[[3. 0. 0.]\n",
      " [0. 3. 0.]\n",
      " [0. 0. 3.]], shape=(3, 3), dtype=float32)\n"
     ]
    }
   ],
   "source": [
    "print(3*eye_tensor)"
   ]
  },
  {
   "cell_type": "code",
   "execution_count": 19,
   "id": "52f49097-2073-4649-8e95-bb0696d5f779",
   "metadata": {
    "tags": []
   },
   "outputs": [],
   "source": [
    "eye_tensor2 = tf.eye(num_rows=5,num_columns=3,batch_shape=None,dtype=tf.dtypes.float32,name=None)"
   ]
  },
  {
   "cell_type": "code",
   "execution_count": 20,
   "id": "2cfcf2d7-4c97-4449-a1bf-ef8dcba0cefb",
   "metadata": {
    "tags": []
   },
   "outputs": [
    {
     "name": "stdout",
     "output_type": "stream",
     "text": [
      "tf.Tensor(\n",
      "[[1. 0. 0.]\n",
      " [0. 1. 0.]\n",
      " [0. 0. 1.]\n",
      " [0. 0. 0.]\n",
      " [0. 0. 0.]], shape=(5, 3), dtype=float32)\n"
     ]
    }
   ],
   "source": [
    "print(eye_tensor2)"
   ]
  },
  {
   "cell_type": "code",
   "execution_count": 21,
   "id": "2451675b-5f24-433d-b499-2418b6822b16",
   "metadata": {
    "tags": []
   },
   "outputs": [],
   "source": [
    "eye_tensor3 = tf.eye(num_rows=3,num_columns=3,batch_shape=[2,2],dtype=tf.dtypes.float32,name=None)"
   ]
  },
  {
   "cell_type": "code",
   "execution_count": 22,
   "id": "3fbe5054-5c6c-4d69-b705-432434d56f40",
   "metadata": {
    "tags": []
   },
   "outputs": [
    {
     "name": "stdout",
     "output_type": "stream",
     "text": [
      "tf.Tensor(\n",
      "[[[[1. 0. 0.]\n",
      "   [0. 1. 0.]\n",
      "   [0. 0. 1.]]\n",
      "\n",
      "  [[1. 0. 0.]\n",
      "   [0. 1. 0.]\n",
      "   [0. 0. 1.]]]\n",
      "\n",
      "\n",
      " [[[1. 0. 0.]\n",
      "   [0. 1. 0.]\n",
      "   [0. 0. 1.]]\n",
      "\n",
      "  [[1. 0. 0.]\n",
      "   [0. 1. 0.]\n",
      "   [0. 0. 1.]]]], shape=(2, 2, 3, 3), dtype=float32)\n"
     ]
    }
   ],
   "source": [
    "print(eye_tensor3)"
   ]
  },
  {
   "cell_type": "markdown",
   "id": "83bb1ac4-26d2-4498-8c53-f9a164f6474d",
   "metadata": {},
   "source": [
    "# Scalar Tensor"
   ]
  },
  {
   "cell_type": "markdown",
   "id": "fd807e4b-4d22-4913-904d-3db925482529",
   "metadata": {},
   "source": [
    "#### These tensors initialise all elements with the provided scalar values"
   ]
  },
  {
   "cell_type": "code",
   "execution_count": 23,
   "id": "602345ec-f77f-4649-b2bb-5b73be0e385e",
   "metadata": {
    "tags": []
   },
   "outputs": [],
   "source": [
    "scalar_tensor = tf.fill([2,3,4],5,name=None)"
   ]
  },
  {
   "cell_type": "code",
   "execution_count": 24,
   "id": "a0c121d0-2bb5-4b4c-a2c2-408e442dbe4e",
   "metadata": {
    "tags": []
   },
   "outputs": [
    {
     "name": "stdout",
     "output_type": "stream",
     "text": [
      "tf.Tensor(\n",
      "[[[5 5 5 5]\n",
      "  [5 5 5 5]\n",
      "  [5 5 5 5]]\n",
      "\n",
      " [[5 5 5 5]\n",
      "  [5 5 5 5]\n",
      "  [5 5 5 5]]], shape=(2, 3, 4), dtype=int32)\n"
     ]
    }
   ],
   "source": [
    "print(scalar_tensor)"
   ]
  },
  {
   "cell_type": "code",
   "execution_count": 25,
   "id": "7db53756-7ff9-4745-93f7-8bf30b29b333",
   "metadata": {
    "tags": []
   },
   "outputs": [],
   "source": [
    "one_tensor = tf.ones([2,3,4],dtype=tf.float32,name=None)"
   ]
  },
  {
   "cell_type": "code",
   "execution_count": 26,
   "id": "af7923dc-31e1-496a-92ee-90b440f16bc1",
   "metadata": {
    "tags": []
   },
   "outputs": [
    {
     "name": "stdout",
     "output_type": "stream",
     "text": [
      "tf.Tensor(\n",
      "[[[1. 1. 1. 1.]\n",
      "  [1. 1. 1. 1.]\n",
      "  [1. 1. 1. 1.]]\n",
      "\n",
      " [[1. 1. 1. 1.]\n",
      "  [1. 1. 1. 1.]\n",
      "  [1. 1. 1. 1.]]], shape=(2, 3, 4), dtype=float32)\n"
     ]
    }
   ],
   "source": [
    "print(one_tensor)"
   ]
  },
  {
   "cell_type": "code",
   "execution_count": 27,
   "id": "d3870288-10c5-4628-bc82-057839010506",
   "metadata": {
    "tags": []
   },
   "outputs": [],
   "source": [
    "one_like_tensor = tf.ones_like(scalar_tensor,dtype=tf.float32)"
   ]
  },
  {
   "cell_type": "code",
   "execution_count": 28,
   "id": "ae15eef6-3464-4bcf-9b79-819e72784b75",
   "metadata": {
    "tags": []
   },
   "outputs": [
    {
     "name": "stdout",
     "output_type": "stream",
     "text": [
      "tf.Tensor(\n",
      "[[[1. 1. 1. 1.]\n",
      "  [1. 1. 1. 1.]\n",
      "  [1. 1. 1. 1.]]\n",
      "\n",
      " [[1. 1. 1. 1.]\n",
      "  [1. 1. 1. 1.]\n",
      "  [1. 1. 1. 1.]]], shape=(2, 3, 4), dtype=float32)\n"
     ]
    }
   ],
   "source": [
    "print(one_like_tensor)"
   ]
  },
  {
   "cell_type": "markdown",
   "id": "2e17070f-0b48-45f2-b4a7-c9946f4d6ec8",
   "metadata": {},
   "source": [
    "#### tf.zeros works similarly"
   ]
  },
  {
   "cell_type": "markdown",
   "id": "af653dd6-1003-4db9-ac40-fd39b0ee65b7",
   "metadata": {},
   "source": [
    "## Tensor Properties"
   ]
  },
  {
   "cell_type": "code",
   "execution_count": 29,
   "id": "f5d48df1-58d1-4384-b9d4-dc833f9a904b",
   "metadata": {
    "tags": []
   },
   "outputs": [
    {
     "name": "stdout",
     "output_type": "stream",
     "text": [
      "3\n"
     ]
    }
   ],
   "source": [
    "print(threed.ndim)"
   ]
  },
  {
   "cell_type": "code",
   "execution_count": 30,
   "id": "c0a64267-6857-4177-9a92-5256379e4f9e",
   "metadata": {
    "tags": []
   },
   "outputs": [
    {
     "name": "stdout",
     "output_type": "stream",
     "text": [
      "(3, 2, 3)\n"
     ]
    }
   ],
   "source": [
    "print(threed.shape)"
   ]
  },
  {
   "cell_type": "markdown",
   "id": "69de087e-e4dc-42d4-a75f-c039498f065e",
   "metadata": {},
   "source": [
    "#### Apart from shape tf.shape return a tensor"
   ]
  },
  {
   "cell_type": "code",
   "execution_count": 31,
   "id": "50d7c426-2b43-44d2-8d52-13cf7c71c90a",
   "metadata": {
    "tags": []
   },
   "outputs": [
    {
     "name": "stdout",
     "output_type": "stream",
     "text": [
      "tf.Tensor([3 2 3], shape=(3,), dtype=int32)\n"
     ]
    }
   ],
   "source": [
    "print(tf.shape(threed))"
   ]
  },
  {
   "cell_type": "code",
   "execution_count": 32,
   "id": "d5145244-9ed1-4e73-bec9-e7b42ca11334",
   "metadata": {
    "tags": []
   },
   "outputs": [
    {
     "name": "stdout",
     "output_type": "stream",
     "text": [
      "tf.Tensor(3, shape=(), dtype=int32)\n"
     ]
    }
   ],
   "source": [
    "print(tf.rank(threed))"
   ]
  },
  {
   "cell_type": "code",
   "execution_count": 33,
   "id": "43099bf5-ba8d-4187-a9e0-025561c956bd",
   "metadata": {
    "tags": []
   },
   "outputs": [
    {
     "name": "stdout",
     "output_type": "stream",
     "text": [
      "tf.Tensor(18, shape=(), dtype=int32)\n"
     ]
    }
   ],
   "source": [
    "print(tf.size(threed))"
   ]
  },
  {
   "cell_type": "markdown",
   "id": "248bfb0a-26e1-47a5-a0b5-521301410135",
   "metadata": {},
   "source": [
    "## Random Tensors"
   ]
  },
  {
   "cell_type": "code",
   "execution_count": 34,
   "id": "63415703-e9ac-4513-ac3e-3c5c535a0d17",
   "metadata": {
    "tags": []
   },
   "outputs": [],
   "source": [
    "random_tensor = tf.random.normal([3,2],\n",
    "                                mean = 0.0,\n",
    "                                stddev=1.0,\n",
    "                                dtype=tf.dtypes.float32,\n",
    "                                seed=None,\n",
    "                                name=None\n",
    "                                )\n"
   ]
  },
  {
   "cell_type": "code",
   "execution_count": 35,
   "id": "7760347d-480d-4525-8df4-3e79223ee274",
   "metadata": {
    "tags": []
   },
   "outputs": [
    {
     "name": "stdout",
     "output_type": "stream",
     "text": [
      "tf.Tensor(\n",
      "[[-0.7531915   0.33029288]\n",
      " [-1.4756422   0.67659163]\n",
      " [-0.43318895 -0.9066143 ]], shape=(3, 2), dtype=float32)\n"
     ]
    }
   ],
   "source": [
    "print(random_tensor)"
   ]
  },
  {
   "cell_type": "code",
   "execution_count": 36,
   "id": "4fb63bd1-4328-4024-add7-fb7ad89970a1",
   "metadata": {
    "tags": []
   },
   "outputs": [],
   "source": [
    "random_uniform_tensor = tf.random.uniform(\n",
    "[5,],\n",
    "minval=0,\n",
    "maxval=8,\n",
    "dtype=tf.dtypes.float32,\n",
    "seed=None,\n",
    "name=None\n",
    ")"
   ]
  },
  {
   "cell_type": "code",
   "execution_count": 37,
   "id": "175bbdeb-aa0e-4a10-892c-44628228fd18",
   "metadata": {
    "tags": []
   },
   "outputs": [
    {
     "name": "stdout",
     "output_type": "stream",
     "text": [
      "tf.Tensor([3.3975296  0.44068336 7.9190636  0.2734232  5.7355604 ], shape=(5,), dtype=float32)\n"
     ]
    }
   ],
   "source": [
    "print(random_uniform_tensor)"
   ]
  },
  {
   "cell_type": "code",
   "execution_count": 38,
   "id": "e022756b-ae67-47f3-b520-ff000010f493",
   "metadata": {
    "tags": []
   },
   "outputs": [],
   "source": [
    "random_uniform_tensor2 = tf.random.uniform(\n",
    "[5,],\n",
    "minval=0,\n",
    "maxval=8,\n",
    "dtype=tf.dtypes.int32,\n",
    "seed=None,\n",
    "name=None\n",
    ")"
   ]
  },
  {
   "cell_type": "code",
   "execution_count": 39,
   "id": "6faa5c80-89fe-4866-bcc1-c23a0fcc83f3",
   "metadata": {
    "tags": []
   },
   "outputs": [
    {
     "name": "stdout",
     "output_type": "stream",
     "text": [
      "tf.Tensor([5 3 1 7 0], shape=(5,), dtype=int32)\n"
     ]
    }
   ],
   "source": [
    "print(random_uniform_tensor2)"
   ]
  },
  {
   "cell_type": "markdown",
   "id": "952d6dcc-f129-4a12-b046-4700a20376c2",
   "metadata": {},
   "source": [
    "##### Seed value is to generate reproducible random tensors"
   ]
  },
  {
   "cell_type": "code",
   "execution_count": 40,
   "id": "e596e352-cc32-465c-a8a1-eb5db0eecdd3",
   "metadata": {
    "tags": []
   },
   "outputs": [
    {
     "name": "stdout",
     "output_type": "stream",
     "text": [
      "tf.Tensor([4 3 1], shape=(3,), dtype=int32)\n",
      "tf.Tensor([4 3 2], shape=(3,), dtype=int32)\n"
     ]
    }
   ],
   "source": [
    "tf.random.set_seed(5)\n",
    "print(tf.random.uniform(shape=[3,],maxval=5,dtype=tf.int32,seed=10))\n",
    "print(tf.random.uniform(shape=[3,],maxval=5,dtype=tf.int32,seed=10))"
   ]
  },
  {
   "cell_type": "code",
   "execution_count": 41,
   "id": "193f5fdb-bc42-4ca3-b535-0d8763bff0c4",
   "metadata": {
    "tags": []
   },
   "outputs": [
    {
     "name": "stdout",
     "output_type": "stream",
     "text": [
      "tf.Tensor([4 3 1], shape=(3,), dtype=int32)\n",
      "tf.Tensor([4 3 2], shape=(3,), dtype=int32)\n"
     ]
    }
   ],
   "source": [
    "tf.random.set_seed(5)\n",
    "print(tf.random.uniform(shape=[3,],maxval=5,dtype=tf.int32,seed=10))\n",
    "print(tf.random.uniform(shape=[3,],maxval=5,dtype=tf.int32,seed=10))"
   ]
  },
  {
   "cell_type": "code",
   "execution_count": 42,
   "id": "122f3922-ff5c-431a-aff7-eecfb7406207",
   "metadata": {
    "tags": []
   },
   "outputs": [
    {
     "name": "stdout",
     "output_type": "stream",
     "text": [
      "tf.Tensor([4 0 4], shape=(3,), dtype=int32)\n",
      "tf.Tensor([0 4 3], shape=(3,), dtype=int32)\n"
     ]
    }
   ],
   "source": [
    "tf.random.set_seed(8)\n",
    "print(tf.random.uniform(shape=[3,],maxval=5,dtype=tf.int32,seed=10))\n",
    "print(tf.random.uniform(shape=[3,],maxval=5,dtype=tf.int32,seed=10))"
   ]
  },
  {
   "cell_type": "code",
   "execution_count": 43,
   "id": "cb9e3c86-aa0c-438e-ab1c-f8df225cdb58",
   "metadata": {
    "tags": []
   },
   "outputs": [
    {
     "name": "stdout",
     "output_type": "stream",
     "text": [
      "tf.Tensor([4 0 4], shape=(3,), dtype=int32)\n",
      "tf.Tensor([0 4 3], shape=(3,), dtype=int32)\n"
     ]
    }
   ],
   "source": [
    "tf.random.set_seed(8)\n",
    "print(tf.random.uniform(shape=[3,],maxval=5,dtype=tf.int32,seed=10))\n",
    "print(tf.random.uniform(shape=[3,],maxval=5,dtype=tf.int32,seed=10))"
   ]
  },
  {
   "cell_type": "markdown",
   "id": "36e8ce8a-e082-4769-95eb-a3d99d154147",
   "metadata": {},
   "source": [
    "# Indexing Tensors"
   ]
  },
  {
   "cell_type": "code",
   "execution_count": 44,
   "id": "e217e9fe-53a6-4e3a-a6c7-6c8062c343e5",
   "metadata": {
    "tags": []
   },
   "outputs": [
    {
     "name": "stdout",
     "output_type": "stream",
     "text": [
      "tf.Tensor([ 3  6  2  4  6 66  7], shape=(7,), dtype=int32)\n"
     ]
    }
   ],
   "source": [
    "indexed_tensor = tf.constant([3,6,2,4,6,66,7])\n",
    "print(indexed_tensor)"
   ]
  },
  {
   "cell_type": "code",
   "execution_count": 45,
   "id": "fb9678c4-fdc3-4e03-9eb1-4365da8a95bf",
   "metadata": {
    "tags": []
   },
   "outputs": [
    {
     "name": "stdout",
     "output_type": "stream",
     "text": [
      "tf.Tensor([3 6 2 4], shape=(4,), dtype=int32)\n",
      "tf.Tensor([ 6  4 66], shape=(3,), dtype=int32)\n"
     ]
    }
   ],
   "source": [
    "print(indexed_tensor[0:4])\n",
    "print(indexed_tensor[1:6:2])"
   ]
  },
  {
   "cell_type": "code",
   "execution_count": 46,
   "id": "9a250da1-d283-4c72-ba79-b9e814552476",
   "metadata": {
    "tags": []
   },
   "outputs": [
    {
     "name": "stdout",
     "output_type": "stream",
     "text": [
      "tf.Tensor([2 3 4 5 6 7 8 9], shape=(8,), dtype=int32)\n"
     ]
    }
   ],
   "source": [
    "print(tf.range(2,10))"
   ]
  },
  {
   "cell_type": "code",
   "execution_count": 47,
   "id": "43c94613-c0eb-4044-8e5c-cc72b1053a84",
   "metadata": {
    "tags": []
   },
   "outputs": [
    {
     "name": "stdout",
     "output_type": "stream",
     "text": [
      "tf.Tensor(\n",
      "[[1 2 3]\n",
      " [4 5 6]], shape=(2, 3), dtype=int32)\n"
     ]
    }
   ],
   "source": [
    "print(twod)"
   ]
  },
  {
   "cell_type": "code",
   "execution_count": 48,
   "id": "87c6d28b-dba7-4eac-95de-24922353bb7b",
   "metadata": {
    "tags": []
   },
   "outputs": [
    {
     "name": "stdout",
     "output_type": "stream",
     "text": [
      "tf.Tensor(\n",
      "[[1 2]\n",
      " [4 5]], shape=(2, 2), dtype=int32)\n"
     ]
    }
   ],
   "source": [
    "print(twod[:,0:2])"
   ]
  },
  {
   "cell_type": "code",
   "execution_count": 49,
   "id": "8c140048-36d2-4979-9def-6ccd575e5c72",
   "metadata": {
    "tags": []
   },
   "outputs": [
    {
     "name": "stdout",
     "output_type": "stream",
     "text": [
      "tf.Tensor(\n",
      "[[[1 2 3]\n",
      "  [4 5 6]]\n",
      "\n",
      " [[7 8 9]\n",
      "  [0 1 5]]\n",
      "\n",
      " [[7 9 6]\n",
      "  [4 2 8]]], shape=(3, 2, 3), dtype=int32)\n"
     ]
    }
   ],
   "source": [
    " print(threed)"
   ]
  },
  {
   "cell_type": "code",
   "execution_count": 50,
   "id": "6a89ae6a-c131-4785-848a-2c4fc6948fb9",
   "metadata": {
    "tags": []
   },
   "outputs": [
    {
     "name": "stdout",
     "output_type": "stream",
     "text": [
      "tf.Tensor(\n",
      "[[1 2 3]\n",
      " [4 5 6]], shape=(2, 3), dtype=int32)\n"
     ]
    }
   ],
   "source": [
    "print(threed[0,:,:])"
   ]
  },
  {
   "cell_type": "code",
   "execution_count": 51,
   "id": "1c402cd3-dff6-44e1-84d9-55b95f42da77",
   "metadata": {
    "tags": []
   },
   "outputs": [
    {
     "name": "stdout",
     "output_type": "stream",
     "text": [
      "tf.Tensor(\n",
      "[[[1 2]\n",
      "  [4 5]]\n",
      "\n",
      " [[7 8]\n",
      "  [0 1]]], shape=(2, 2, 2), dtype=int32)\n"
     ]
    }
   ],
   "source": [
    "print(threed[0:2,:,0:2])"
   ]
  },
  {
   "cell_type": "markdown",
   "id": "a68eb8b6-d214-485a-8efd-8c4b8b9f8229",
   "metadata": {},
   "source": [
    "# Mathematical Operations"
   ]
  },
  {
   "cell_type": "code",
   "execution_count": 52,
   "id": "6f154113-87ab-4016-9be9-5670324968c5",
   "metadata": {
    "tags": []
   },
   "outputs": [
    {
     "name": "stdout",
     "output_type": "stream",
     "text": [
      "tf.Tensor([2.  5.  0.3 1.  2.  0.5], shape=(6,), dtype=float32)\n"
     ]
    }
   ],
   "source": [
    "x = tf.constant([-2,-5,-0.3,1,2,0.5])\n",
    "print(tf.abs(x))"
   ]
  },
  {
   "cell_type": "code",
   "execution_count": 53,
   "id": "d7257d11-ed9a-485b-8855-da01045b9c88",
   "metadata": {
    "tags": []
   },
   "outputs": [
    {
     "name": "stdout",
     "output_type": "stream",
     "text": [
      "tf.Tensor(5.25594901040716, shape=(), dtype=float64)\n",
      "tf.Tensor(5.255949, shape=(), dtype=float32)\n"
     ]
    }
   ],
   "source": [
    "x = tf.constant(-2.25+4.75j)\n",
    "print(tf.abs(x))\n",
    "print(tf.sqrt(((-2.25)**2)+((4.75)**2)))"
   ]
  },
  {
   "cell_type": "code",
   "execution_count": 54,
   "id": "cea85cd4-33ea-405b-b41d-94a52f0a6e37",
   "metadata": {
    "tags": []
   },
   "outputs": [
    {
     "name": "stdout",
     "output_type": "stream",
     "text": [
      "Addition\n",
      " tf.Tensor([12  9  8 12 11 17], shape=(6,), dtype=int32)\n",
      "Multiplication\n",
      " tf.Tensor([35 18 12 36 28 66], shape=(6,), dtype=int32)\n",
      "Subtraction\n",
      " tf.Tensor([-2 -3  4  0 -3 -5], shape=(6,), dtype=int32)\n",
      "Division\n",
      " tf.Tensor([0.71428571 0.5        3.         1.         0.57142857 0.54545455], shape=(6,), dtype=float64)\n"
     ]
    }
   ],
   "source": [
    "x1 = tf.constant([5,3,6,6,4,6],dtype=tf.int32)\n",
    "x2 = tf.constant([7,6,2,6,7,11],dtype=tf.int32)\n",
    "\n",
    "print(\"Addition\\n\",tf.add(x1,x2))\n",
    "print(\"Multiplication\\n\",tf.multiply(x1,x2))\n",
    "print(\"Subtraction\\n\",tf.subtract(x1,x2))\n",
    "print(\"Division\\n\",tf.divide(x1,x2))"
   ]
  },
  {
   "cell_type": "code",
   "execution_count": 55,
   "id": "63fd2c06-02e2-47a0-bfcf-6ad95e037d5e",
   "metadata": {
    "tags": []
   },
   "outputs": [
    {
     "name": "stdout",
     "output_type": "stream",
     "text": [
      "tf.Tensor([0.71428573 0.5        3.         1.                inf 0.54545456], shape=(6,), dtype=float32)\n",
      "tf.Tensor([0.71428573 0.5        3.         1.         0.         0.54545456], shape=(6,), dtype=float32)\n"
     ]
    }
   ],
   "source": [
    "x1 = tf.constant([5,3,6,6,4,6],dtype=tf.float32)\n",
    "x2 = tf.constant([7,6,2,6,0,11],dtype=tf.float32)\n",
    "print(tf.divide(x1,x2))\n",
    "print(tf.math.divide_no_nan(x1,x2))"
   ]
  },
  {
   "cell_type": "code",
   "execution_count": 56,
   "id": "40ec7c6f-9cd9-461f-ad3b-83f3de5b0068",
   "metadata": {
    "tags": []
   },
   "outputs": [
    {
     "name": "stdout",
     "output_type": "stream",
     "text": [
      "(6,)\n",
      "(3, 1)\n",
      "tf.Tensor(\n",
      "[[35. 21. 42. 42. 28. 42.]\n",
      " [25. 15. 30. 30. 20. 30.]\n",
      " [15.  9. 18. 18. 12. 18.]], shape=(3, 6), dtype=float32)\n"
     ]
    }
   ],
   "source": [
    "x1 = tf.constant([5,3,6,6,4,6],dtype=tf.float32)\n",
    "x2 = tf.constant([[7],[5],[3]],dtype=tf.float32)\n",
    "print(x1.shape)\n",
    "print(x2.shape)\n",
    "print(tf.multiply(x1,x2))"
   ]
  },
  {
   "cell_type": "markdown",
   "id": "e3c9a6b4-1e30-4c0a-806a-bf0f11cc1665",
   "metadata": {},
   "source": [
    "## tf.math.argmax\n",
    "#### It accepts a tensor and returns the index of largest element"
   ]
  },
  {
   "cell_type": "code",
   "execution_count": 57,
   "id": "036d848c-fb26-4b8e-8f04-15071bffc7a5",
   "metadata": {
    "tags": []
   },
   "outputs": [
    {
     "name": "stdout",
     "output_type": "stream",
     "text": [
      "tf.Tensor(4, shape=(), dtype=int64)\n"
     ]
    }
   ],
   "source": [
    "x_argmax = tf.constant([20,10,30,13,100,8,100,50])\n",
    "print(tf.math.argmax(x_argmax))"
   ]
  },
  {
   "cell_type": "markdown",
   "id": "3d65ee5f-b1b2-48cb-b0ea-c68fb00df878",
   "metadata": {},
   "source": [
    "#### For multidimensional tensors we can provide axis, 0 mean column wise comparison and 1 means row wise"
   ]
  },
  {
   "cell_type": "code",
   "execution_count": 58,
   "id": "fb85661a-009e-4572-b7ec-9c97349797b1",
   "metadata": {
    "tags": []
   },
   "outputs": [
    {
     "name": "stdout",
     "output_type": "stream",
     "text": [
      "tf.Tensor([2 2 0 2 2], shape=(5,), dtype=int64)\n"
     ]
    }
   ],
   "source": [
    "x_argmax = (\n",
    "    [[2,20,30,3,6],\n",
    "     [3,11,16,1,8],\n",
    "     [14,45,23,5,27]]\n",
    ")\n",
    "print(tf.math.argmax(x_argmax,0))"
   ]
  },
  {
   "cell_type": "code",
   "execution_count": 59,
   "id": "aae73315-1c2d-4bf1-8226-8c411605dc88",
   "metadata": {
    "tags": []
   },
   "outputs": [
    {
     "name": "stdout",
     "output_type": "stream",
     "text": [
      "tf.Tensor([2 2 1], shape=(3,), dtype=int64)\n"
     ]
    }
   ],
   "source": [
    "print(tf.math.argmax(x_argmax,1))"
   ]
  },
  {
   "cell_type": "markdown",
   "id": "0209da8d-11ce-4f54-b658-cef12266ba13",
   "metadata": {},
   "source": [
    "#### This works similar for argmin"
   ]
  },
  {
   "cell_type": "code",
   "execution_count": 60,
   "id": "2f97164a-c0db-46ef-a3cb-6f9716c53f8c",
   "metadata": {
    "tags": []
   },
   "outputs": [
    {
     "name": "stdout",
     "output_type": "stream",
     "text": [
      "tf.Tensor([0 1 1 1 0], shape=(5,), dtype=int64) 0\n"
     ]
    }
   ],
   "source": [
    "print(tf.math.argmin(x_argmax),0)"
   ]
  },
  {
   "cell_type": "code",
   "execution_count": 61,
   "id": "e3c20f7a-8b7e-4689-9c89-1431f834ae75",
   "metadata": {
    "tags": []
   },
   "outputs": [
    {
     "name": "stdout",
     "output_type": "stream",
     "text": [
      "tf.Tensor([0 1 1 1 0], shape=(5,), dtype=int64) 0\n"
     ]
    }
   ],
   "source": [
    "print(tf.math.argmin(x_argmax),0)"
   ]
  },
  {
   "cell_type": "markdown",
   "id": "1d415b7c-f30f-4343-8205-472c6cf5f78e",
   "metadata": {},
   "source": [
    "## tf.math.pow\n",
    "#### raises power of each element of first tensor to elements of second element"
   ]
  },
  {
   "cell_type": "code",
   "execution_count": 62,
   "id": "6a022ce9-9568-41aa-b27d-08a543032127",
   "metadata": {
    "tags": []
   },
   "outputs": [
    {
     "name": "stdout",
     "output_type": "stream",
     "text": [
      "tf.Tensor(\n",
      "[[ 8  1]\n",
      " [ 3 81]], shape=(2, 2), dtype=int32)\n"
     ]
    }
   ],
   "source": [
    "x = tf.constant([[2,2],[3,3]])\n",
    "y = tf.constant([[3,0],[1,4]])\n",
    "print(tf.pow(x,y))"
   ]
  },
  {
   "cell_type": "markdown",
   "id": "d2d12bfe-fc55-4356-9c64-42fe18044820",
   "metadata": {},
   "source": [
    "## Reduce functions\n",
    "#### reduce functions calculates on all elements as a single array"
   ]
  },
  {
   "cell_type": "code",
   "execution_count": 63,
   "id": "68b321d0-e14f-4539-8a08-da847ce159df",
   "metadata": {
    "tags": []
   },
   "outputs": [
    {
     "name": "stdout",
     "output_type": "stream",
     "text": [
      "tf.Tensor(\n",
      "[[1 2 3]\n",
      " [4 5 6]], shape=(2, 3), dtype=int32)\n"
     ]
    }
   ],
   "source": [
    "print(twod)"
   ]
  },
  {
   "cell_type": "code",
   "execution_count": 64,
   "id": "23e96882-6b6a-4116-89a0-8bfe6f96e6c6",
   "metadata": {
    "tags": []
   },
   "outputs": [
    {
     "name": "stdout",
     "output_type": "stream",
     "text": [
      "tf.Tensor(21, shape=(), dtype=int32)\n"
     ]
    }
   ],
   "source": [
    "print(tf.math.reduce_sum(twod,axis=None,keepdims=False,name=None))"
   ]
  },
  {
   "cell_type": "code",
   "execution_count": 65,
   "id": "308544ce-6f9a-4fe9-b335-682fe6c6446d",
   "metadata": {
    "tags": []
   },
   "outputs": [
    {
     "name": "stdout",
     "output_type": "stream",
     "text": [
      "tf.Tensor([[21]], shape=(1, 1), dtype=int32)\n"
     ]
    }
   ],
   "source": [
    "print(tf.math.reduce_sum(twod,axis=None,keepdims=True,name=None))"
   ]
  },
  {
   "cell_type": "code",
   "execution_count": 66,
   "id": "af881285-400c-4600-b050-4ea8238f4c11",
   "metadata": {
    "tags": []
   },
   "outputs": [
    {
     "name": "stdout",
     "output_type": "stream",
     "text": [
      "tf.Tensor(6, shape=(), dtype=int32)\n"
     ]
    }
   ],
   "source": [
    "print(tf.math.reduce_max(twod,axis=None,keepdims=False,name=None))"
   ]
  },
  {
   "cell_type": "code",
   "execution_count": 67,
   "id": "84adfad4-e5a4-453c-9116-5bd8f3fbd51c",
   "metadata": {
    "tags": []
   },
   "outputs": [
    {
     "name": "stdout",
     "output_type": "stream",
     "text": [
      "tf.Tensor([5 7 9], shape=(3,), dtype=int32)\n"
     ]
    }
   ],
   "source": [
    "print(tf.math.reduce_sum(twod,axis=0,keepdims=False,name=None))"
   ]
  },
  {
   "cell_type": "code",
   "execution_count": 68,
   "id": "aa30bdcf-62a2-4343-87af-65c044268499",
   "metadata": {
    "tags": []
   },
   "outputs": [
    {
     "name": "stdout",
     "output_type": "stream",
     "text": [
      "tf.Tensor([ 6 15], shape=(2,), dtype=int32)\n"
     ]
    }
   ],
   "source": [
    "print(tf.math.reduce_sum(twod,axis=1,keepdims=False,name=None))"
   ]
  },
  {
   "cell_type": "code",
   "execution_count": 69,
   "id": "1cce8272-d814-4e11-a2f7-09b8c8277dab",
   "metadata": {
    "tags": []
   },
   "outputs": [],
   "source": [
    "twod = tf.constant([[1, 2, 3],\n",
    " [4, 5, 6]],dtype=tf.float32)"
   ]
  },
  {
   "cell_type": "code",
   "execution_count": 70,
   "id": "58a5d7c2-0e7b-4cec-8ea3-138c1249f4a1",
   "metadata": {
    "tags": []
   },
   "outputs": [
    {
     "name": "stdout",
     "output_type": "stream",
     "text": [
      "tf.Tensor(3.5, shape=(), dtype=float32)\n"
     ]
    }
   ],
   "source": [
    "print(tf.math.reduce_mean(twod,axis=None,keepdims=False,name=None))"
   ]
  },
  {
   "cell_type": "code",
   "execution_count": 71,
   "id": "5e1a2bf3-00a5-44a7-9699-bdf6f51f8616",
   "metadata": {
    "tags": []
   },
   "outputs": [
    {
     "name": "stdout",
     "output_type": "stream",
     "text": [
      "tf.Tensor(1.7078251, shape=(), dtype=float32)\n"
     ]
    }
   ],
   "source": [
    "print(tf.math.reduce_std(twod,axis=None,keepdims=False,name=None))"
   ]
  },
  {
   "cell_type": "code",
   "execution_count": 72,
   "id": "beb3de88-2446-48b2-95c5-e54c735e6c27",
   "metadata": {
    "tags": []
   },
   "outputs": [
    {
     "data": {
      "text/plain": [
       "TopKV2(values=<tf.Tensor: shape=(2, 2), dtype=float32, numpy=\n",
       "array([[3., 2.],\n",
       "       [6., 5.]], dtype=float32)>, indices=<tf.Tensor: shape=(2, 2), dtype=int32, numpy=\n",
       "array([[2, 1],\n",
       "       [2, 1]])>)"
      ]
     },
     "execution_count": 72,
     "metadata": {},
     "output_type": "execute_result"
    }
   ],
   "source": [
    "tf.math.top_k(twod,k=2)"
   ]
  },
  {
   "cell_type": "markdown",
   "id": "d93428da-2535-4d20-b3b2-6c2abae73a2d",
   "metadata": {},
   "source": [
    "# Algebraic Operations "
   ]
  },
  {
   "cell_type": "markdown",
   "id": "27b91c6f-95e1-4de3-b40a-27f223758411",
   "metadata": {},
   "source": [
    "## tf.linalg.matmul"
   ]
  },
  {
   "cell_type": "code",
   "execution_count": 73,
   "id": "c2d85c14-d3a0-4ca4-b88c-802b02a20674",
   "metadata": {},
   "outputs": [
    {
     "name": "stdout",
     "output_type": "stream",
     "text": [
      "tf.Tensor(\n",
      "[[  7  12  -2]\n",
      " [ 14  26 -11]], shape=(2, 3), dtype=int32)\n"
     ]
    }
   ],
   "source": [
    "x1 = tf.constant([[1,2,0],[3,5,-1]])\n",
    "x2 = tf.constant([[1,2,0],[3,5,-1],[4,5,6]])\n",
    "tensor_matmul=tf.linalg.matmul(x1,x2,\n",
    "                 transpose_a=False,\n",
    "                 transpose_b=False,\n",
    "                 adjoint_a=False,\n",
    "                 adjoint_b=False,\n",
    "                 a_is_sparse=False,\n",
    "                 b_is_sparse=False,\n",
    "                 output_type=None,\n",
    "                 name=None)\n",
    "print(tensor_matmul)"
   ]
  },
  {
   "cell_type": "code",
   "execution_count": 74,
   "id": "95fa13c9-c78d-4944-944c-91aaec1e87bb",
   "metadata": {},
   "outputs": [
    {
     "name": "stdout",
     "output_type": "stream",
     "text": [
      "tf.Tensor(\n",
      "[[  7  12  -2]\n",
      " [ 14  26 -11]], shape=(2, 3), dtype=int32)\n"
     ]
    }
   ],
   "source": [
    "print(x1@x2)"
   ]
  },
  {
   "cell_type": "markdown",
   "id": "78fd2bc4-40a1-4e59-8f69-f30a85bd6554",
   "metadata": {},
   "source": [
    "## Transpose"
   ]
  },
  {
   "cell_type": "code",
   "execution_count": 75,
   "id": "7c387b81-75a5-482c-b25d-701f559ff5d1",
   "metadata": {
    "tags": []
   },
   "outputs": [
    {
     "data": {
      "text/plain": [
       "<tf.Tensor: shape=(3, 2), dtype=int32, numpy=\n",
       "array([[ 1,  3],\n",
       "       [ 2,  5],\n",
       "       [ 0, -1]])>"
      ]
     },
     "execution_count": 75,
     "metadata": {},
     "output_type": "execute_result"
    }
   ],
   "source": [
    "tf.transpose(x1)"
   ]
  },
  {
   "cell_type": "code",
   "execution_count": 76,
   "id": "c8828a23-ab3a-4dad-ac31-b6097e08e194",
   "metadata": {
    "tags": []
   },
   "outputs": [
    {
     "name": "stdout",
     "output_type": "stream",
     "text": [
      "tf.Tensor(\n",
      "[[ 1  2  0]\n",
      " [ 3  5 -1]], shape=(2, 3), dtype=int32)\n"
     ]
    }
   ],
   "source": [
    "print(x1)"
   ]
  },
  {
   "cell_type": "markdown",
   "id": "60de486c-2b99-4106-bb2c-560f913dc41d",
   "metadata": {},
   "source": [
    "#### While doing matrix multiplication in three dimensional tensors, dimension of all two dimensional tensors inside should match the multiplication criteria"
   ]
  },
  {
   "cell_type": "markdown",
   "id": "231836a2-f712-4c9b-87ca-aa113c6658a0",
   "metadata": {},
   "source": [
    "## Bandpart"
   ]
  },
  {
   "cell_type": "code",
   "execution_count": 77,
   "id": "582cc92c-6548-4191-bc50-e68fed3034c1",
   "metadata": {
    "tags": []
   },
   "outputs": [
    {
     "name": "stdout",
     "output_type": "stream",
     "text": [
      "tf.Tensor(\n",
      "[[1 0 0]\n",
      " [0 5 0]\n",
      " [0 0 6]\n",
      " [0 0 0]], shape=(4, 3), dtype=int32)\n"
     ]
    }
   ],
   "source": [
    "tensor_two_d = tf.constant([[1,-2,0],\n",
    "                           [3,5,100],\n",
    "                           [1,5,6],\n",
    "                           [2,3,1]])\n",
    "\n",
    "# (m-n<=Lower)&(n-m<=upper) \n",
    "# m=rows n=columns\n",
    "\n",
    "print(tf.linalg.band_part(tensor_two_d,0,0))\n"
   ]
  },
  {
   "cell_type": "code",
   "execution_count": 78,
   "id": "146eca7b-51ef-4117-8706-4e688e54b88f",
   "metadata": {
    "tags": []
   },
   "outputs": [
    {
     "name": "stdout",
     "output_type": "stream",
     "text": [
      "tf.Tensor(\n",
      "[[  1  -2   0]\n",
      " [  0   5 100]\n",
      " [  0   0   6]\n",
      " [  0   0   0]], shape=(4, 3), dtype=int32)\n"
     ]
    }
   ],
   "source": [
    "print(tf.linalg.band_part(tensor_two_d,0,-1))"
   ]
  },
  {
   "cell_type": "code",
   "execution_count": 79,
   "id": "c6018bbc-ab80-4dd0-bd72-ff0ab6bc756a",
   "metadata": {
    "tags": []
   },
   "outputs": [
    {
     "name": "stdout",
     "output_type": "stream",
     "text": [
      "tf.Tensor(\n",
      "[[1 0 0]\n",
      " [3 5 0]\n",
      " [1 5 6]\n",
      " [2 3 1]], shape=(4, 3), dtype=int32)\n"
     ]
    }
   ],
   "source": [
    "print(tf.linalg.band_part(tensor_two_d,-1,0))"
   ]
  },
  {
   "cell_type": "markdown",
   "id": "732897c2-8ed3-494e-9535-608d9a5eecf7",
   "metadata": {},
   "source": [
    "#### If the condition (m-n<=Lower)&(n-m<=Upper) return true then the value at that specific position is retained else it becomes zero. Lower and Upper are passed as arguments. \n",
    "#### For 0 and 0 it returns a digonal matrix.\n",
    "#### For 0 and -1 it returns a upper triangular matrix\n",
    "#### For -1 and 0 it returns a lower triagular matrix"
   ]
  },
  {
   "cell_type": "markdown",
   "id": "466b235d-3f6e-440e-88c9-c206d6cb99ef",
   "metadata": {},
   "source": [
    "## Inverse"
   ]
  },
  {
   "cell_type": "code",
   "execution_count": 80,
   "id": "6b0e86af-d12f-43d0-bfe1-cc1067899cb7",
   "metadata": {
    "tags": []
   },
   "outputs": [
    {
     "name": "stdout",
     "output_type": "stream",
     "text": [
      "tf.Tensor(\n",
      "[[ 0.74132484 -0.01892744  0.3154574 ]\n",
      " [-0.12933758 -0.00946372  0.1577287 ]\n",
      " [-0.01577287  0.01104101 -0.01735016]], shape=(3, 3), dtype=float32)\n"
     ]
    }
   ],
   "source": [
    "tensor_two_d = tf.constant([[1,-2,0],\n",
    "                           [3,5,100],\n",
    "                           [1,5,6]],dtype= tf.float32)\n",
    "\n",
    "two_d_inv = tf.linalg.inv(tensor_two_d)\n",
    "print(two_d_inv)"
   ]
  },
  {
   "cell_type": "markdown",
   "id": "414ca20c-2bcb-4a46-af57-ebc11c4e2f67",
   "metadata": {},
   "source": [
    "#### When we multiply a matrix with its inverse we get a identity matrix"
   ]
  },
  {
   "cell_type": "code",
   "execution_count": 81,
   "id": "fb991cb4-7ccc-4da7-a41b-27f460e963de",
   "metadata": {
    "tags": []
   },
   "outputs": [
    {
     "name": "stdout",
     "output_type": "stream",
     "text": [
      "tf.Tensor(\n",
      "[[ 1.0000000e+00  0.0000000e+00  0.0000000e+00]\n",
      " [-1.0986328e-03  9.9990845e-01 -6.1035156e-05]\n",
      " [-4.2724609e-04  1.5258789e-05  9.9990845e-01]], shape=(3, 3), dtype=float32)\n"
     ]
    }
   ],
   "source": [
    "print(tensor_two_d@two_d_inv)"
   ]
  },
  {
   "cell_type": "code",
   "execution_count": 82,
   "id": "aa4e4cb6-902c-42cc-899f-122f48d3a5dc",
   "metadata": {
    "tags": []
   },
   "outputs": [
    {
     "name": "stdout",
     "output_type": "stream",
     "text": [
      "tf.Tensor([100.366325    5.105901    1.2371689], shape=(3,), dtype=float32)\n",
      "tf.Tensor(\n",
      "[[ 7.4973481e-04  3.7569967e-01  9.2674106e-01]\n",
      " [-9.9803799e-01  5.8300667e-02 -2.2827385e-02]\n",
      " [-6.2605947e-02 -9.2490584e-01  3.7500623e-01]], shape=(3, 3), dtype=float32)\n",
      "tf.Tensor(\n",
      "[[-0.03044816 -0.07330807  0.9968445 ]\n",
      " [-0.05285358 -0.9957936  -0.07484518]\n",
      " [-0.9981381   0.05496549 -0.02644551]], shape=(3, 3), dtype=float32)\n"
     ]
    }
   ],
   "source": [
    "s,v,d = tf.linalg.svd(tensor_two_d)\n",
    "print(s)\n",
    "print(v)\n",
    "print(d)"
   ]
  },
  {
   "cell_type": "markdown",
   "id": "b6a5b654-0306-425a-97c2-ea62d5af9812",
   "metadata": {},
   "source": [
    "# Common Tensorflow Functions"
   ]
  },
  {
   "cell_type": "markdown",
   "id": "a62e4813-ea4f-48f4-911b-699db327988c",
   "metadata": {},
   "source": [
    "## Expand Dimensions"
   ]
  },
  {
   "cell_type": "code",
   "execution_count": 83,
   "id": "7bbeb59f-eece-4ddd-be80-9afd3133b17a",
   "metadata": {
    "tags": []
   },
   "outputs": [
    {
     "name": "stdout",
     "output_type": "stream",
     "text": [
      "tf.Tensor(\n",
      "[[[1 2 3]\n",
      "  [4 5 6]]\n",
      "\n",
      " [[7 8 9]\n",
      "  [0 1 5]]\n",
      "\n",
      " [[7 9 6]\n",
      "  [4 2 8]]], shape=(3, 2, 3), dtype=int32)\n"
     ]
    }
   ],
   "source": [
    "print(threed)"
   ]
  },
  {
   "cell_type": "code",
   "execution_count": 84,
   "id": "b34a0abe-cdb6-4a76-983d-14ce83096d2c",
   "metadata": {
    "tags": []
   },
   "outputs": [
    {
     "name": "stdout",
     "output_type": "stream",
     "text": [
      "(3, 2, 3)\n"
     ]
    }
   ],
   "source": [
    "print(threed.shape)"
   ]
  },
  {
   "cell_type": "code",
   "execution_count": 85,
   "id": "321e342c-405a-40ad-96b6-0ba9732be0b5",
   "metadata": {
    "tags": []
   },
   "outputs": [
    {
     "name": "stdout",
     "output_type": "stream",
     "text": [
      "(1, 3, 2, 3)\n"
     ]
    }
   ],
   "source": [
    "print(tf.expand_dims(threed,axis=0).shape)"
   ]
  },
  {
   "cell_type": "code",
   "execution_count": 86,
   "id": "b1f35b3a-67b8-49a3-82e9-76714652bc24",
   "metadata": {
    "tags": []
   },
   "outputs": [
    {
     "name": "stdout",
     "output_type": "stream",
     "text": [
      "(3, 1, 2, 3)\n"
     ]
    }
   ],
   "source": [
    "print(tf.expand_dims(threed,axis=1).shape)"
   ]
  },
  {
   "cell_type": "code",
   "execution_count": 87,
   "id": "49a17567-b016-4106-bed4-a1f587278d42",
   "metadata": {
    "tags": []
   },
   "outputs": [
    {
     "name": "stdout",
     "output_type": "stream",
     "text": [
      "(3, 2, 1, 3)\n"
     ]
    }
   ],
   "source": [
    "print(tf.expand_dims(threed,axis=2).shape)"
   ]
  },
  {
   "cell_type": "code",
   "execution_count": 88,
   "id": "14d91701-53f2-4732-8934-cacfee1fb908",
   "metadata": {
    "tags": []
   },
   "outputs": [
    {
     "name": "stdout",
     "output_type": "stream",
     "text": [
      "(3, 2, 3, 1)\n"
     ]
    }
   ],
   "source": [
    "print(tf.expand_dims(threed,axis=3).shape)"
   ]
  },
  {
   "cell_type": "markdown",
   "id": "c58a16a3-4460-4e40-9888-70ad36af8879",
   "metadata": {},
   "source": [
    "## Squeeze Dimensions"
   ]
  },
  {
   "cell_type": "code",
   "execution_count": 89,
   "id": "d033fa0a-f90f-4345-b751-40417e032f28",
   "metadata": {
    "tags": []
   },
   "outputs": [
    {
     "name": "stdout",
     "output_type": "stream",
     "text": [
      "(3, 2, 3)\n"
     ]
    }
   ],
   "source": [
    "expanded3=tf.expand_dims(threed,axis=3)\n",
    "print(tf.squeeze(expanded3,axis=3).shape)"
   ]
  },
  {
   "cell_type": "code",
   "execution_count": 90,
   "id": "fb84de92-31be-4b76-ba52-fcb31a7bc5fd",
   "metadata": {
    "tags": []
   },
   "outputs": [
    {
     "name": "stdout",
     "output_type": "stream",
     "text": [
      "(3, 2, 3)\n"
     ]
    }
   ],
   "source": [
    "expanded2=tf.expand_dims(threed,axis=2)\n",
    "print(tf.squeeze(expanded3,axis=3).shape)"
   ]
  },
  {
   "cell_type": "markdown",
   "id": "60569c9a-0462-4203-a33c-de4d14b2af40",
   "metadata": {},
   "source": [
    "## Reshape"
   ]
  },
  {
   "cell_type": "code",
   "execution_count": 91,
   "id": "d54d9c77-5a15-4aa2-8288-5e127a4adad6",
   "metadata": {
    "tags": []
   },
   "outputs": [
    {
     "data": {
      "text/plain": [
       "<tf.Tensor: shape=(8,), dtype=int32, numpy=array([3, 5, 6, 6, 4, 6, 1, 2])>"
      ]
     },
     "execution_count": 91,
     "metadata": {},
     "output_type": "execute_result"
    }
   ],
   "source": [
    "x_reshape = tf.constant([[3,5,6,6,],\n",
    "                         [4,6,1,2]])\n",
    "\n",
    "tf.reshape(x_reshape,[8])"
   ]
  },
  {
   "cell_type": "code",
   "execution_count": 92,
   "id": "adeb03ef-a20c-40a1-82b7-7f16263831fd",
   "metadata": {
    "tags": []
   },
   "outputs": [
    {
     "data": {
      "text/plain": [
       "<tf.Tensor: shape=(4, 2), dtype=int32, numpy=\n",
       "array([[3, 5],\n",
       "       [6, 6],\n",
       "       [4, 6],\n",
       "       [1, 2]])>"
      ]
     },
     "execution_count": 92,
     "metadata": {},
     "output_type": "execute_result"
    }
   ],
   "source": [
    "tf.reshape(x_reshape,[4,2])"
   ]
  },
  {
   "cell_type": "code",
   "execution_count": 93,
   "id": "82996784-fc24-4ed4-80d0-883f7222a890",
   "metadata": {
    "tags": []
   },
   "outputs": [
    {
     "data": {
      "text/plain": [
       "<tf.Tensor: shape=(4, 2, 1), dtype=int32, numpy=\n",
       "array([[[3],\n",
       "        [5]],\n",
       "\n",
       "       [[6],\n",
       "        [6]],\n",
       "\n",
       "       [[4],\n",
       "        [6]],\n",
       "\n",
       "       [[1],\n",
       "        [2]]])>"
      ]
     },
     "execution_count": 93,
     "metadata": {},
     "output_type": "execute_result"
    }
   ],
   "source": [
    "tf.reshape(x_reshape,[4,2,1])"
   ]
  },
  {
   "cell_type": "markdown",
   "id": "ea501084-3006-4767-873c-fce51608e9e2",
   "metadata": {},
   "source": [
    "## Concat"
   ]
  },
  {
   "cell_type": "code",
   "execution_count": 94,
   "id": "1b909c56-ee49-4905-814f-035b0d21ad80",
   "metadata": {
    "tags": []
   },
   "outputs": [
    {
     "data": {
      "text/plain": [
       "<tf.Tensor: shape=(4, 3), dtype=int32, numpy=\n",
       "array([[ 1,  2,  3],\n",
       "       [ 4,  5,  6],\n",
       "       [ 7,  8,  9],\n",
       "       [10, 11, 12]])>"
      ]
     },
     "execution_count": 94,
     "metadata": {},
     "output_type": "execute_result"
    }
   ],
   "source": [
    "t1 = tf.constant([[1,2,3],\n",
    "                  [4,5,6]])\n",
    "t2 = tf.constant([[7,8,9],\n",
    "                  [10,11,12]])\n",
    "\n",
    "tf.concat([t1,t2],0)\n"
   ]
  },
  {
   "cell_type": "code",
   "execution_count": 95,
   "id": "fe62c8cd-b291-482c-ad72-3ad7bfbf912f",
   "metadata": {
    "tags": []
   },
   "outputs": [
    {
     "data": {
      "text/plain": [
       "<tf.Tensor: shape=(4, 3), dtype=int32, numpy=\n",
       "array([[ 1,  2,  3],\n",
       "       [ 4,  5,  6],\n",
       "       [ 7,  8,  9],\n",
       "       [10, 11, 12]])>"
      ]
     },
     "execution_count": 95,
     "metadata": {},
     "output_type": "execute_result"
    }
   ],
   "source": [
    "t1 = [[1,2,3],\n",
    "      [4,5,6]]\n",
    "t2 = [[7,8,9],\n",
    "     [10,11,12]]\n",
    "\n",
    "tf.concat([t1,t2],0)\n"
   ]
  },
  {
   "cell_type": "code",
   "execution_count": 96,
   "id": "e35bc891-b73d-4e2b-851d-65b192f69a13",
   "metadata": {
    "tags": []
   },
   "outputs": [
    {
     "data": {
      "text/plain": [
       "<tf.Tensor: shape=(2, 6), dtype=int32, numpy=\n",
       "array([[ 1,  2,  3,  7,  8,  9],\n",
       "       [ 4,  5,  6, 10, 11, 12]])>"
      ]
     },
     "execution_count": 96,
     "metadata": {},
     "output_type": "execute_result"
    }
   ],
   "source": [
    "tf.concat([t1,t2],1)"
   ]
  },
  {
   "cell_type": "markdown",
   "id": "5a7e7f1f-6db2-4dd7-a555-5b7e91e7c758",
   "metadata": {},
   "source": [
    "## Stacking"
   ]
  },
  {
   "cell_type": "code",
   "execution_count": 97,
   "id": "10fecb43-0c54-4b31-9ab1-f3e0f4f95ee5",
   "metadata": {
    "tags": []
   },
   "outputs": [
    {
     "data": {
      "text/plain": [
       "<tf.Tensor: shape=(2, 2, 3), dtype=int32, numpy=\n",
       "array([[[ 1,  2,  3],\n",
       "        [ 4,  5,  6]],\n",
       "\n",
       "       [[ 7,  8,  9],\n",
       "        [10, 11, 12]]])>"
      ]
     },
     "execution_count": 97,
     "metadata": {},
     "output_type": "execute_result"
    }
   ],
   "source": [
    "\n",
    "tf.stack([t1,t2],0)"
   ]
  },
  {
   "cell_type": "code",
   "execution_count": 98,
   "id": "9a9c0312-55b1-4600-b91e-fbe39c0645dc",
   "metadata": {
    "tags": []
   },
   "outputs": [
    {
     "data": {
      "text/plain": [
       "<tf.Tensor: shape=(2, 2, 3), dtype=int32, numpy=\n",
       "array([[[ 1,  2,  3],\n",
       "        [ 7,  8,  9]],\n",
       "\n",
       "       [[ 4,  5,  6],\n",
       "        [10, 11, 12]]])>"
      ]
     },
     "execution_count": 98,
     "metadata": {},
     "output_type": "execute_result"
    }
   ],
   "source": [
    "tf.stack([t1,t2],1)"
   ]
  },
  {
   "cell_type": "markdown",
   "id": "a2b18aeb-c3bc-4d25-a0a4-07b6488396d6",
   "metadata": {},
   "source": [
    "## Pad"
   ]
  },
  {
   "cell_type": "code",
   "execution_count": 102,
   "id": "f116388e-c1f2-440a-a147-6db7d40d8315",
   "metadata": {
    "tags": []
   },
   "outputs": [
    {
     "data": {
      "text/plain": [
       "<tf.Tensor: shape=(5, 10), dtype=int32, numpy=\n",
       "array([[0, 0, 0, 0, 0, 0, 0, 0, 0, 0],\n",
       "       [0, 0, 0, 1, 2, 3, 0, 0, 0, 0],\n",
       "       [0, 0, 0, 4, 5, 6, 0, 0, 0, 0],\n",
       "       [0, 0, 0, 0, 0, 0, 0, 0, 0, 0],\n",
       "       [0, 0, 0, 0, 0, 0, 0, 0, 0, 0]])>"
      ]
     },
     "execution_count": 102,
     "metadata": {},
     "output_type": "execute_result"
    }
   ],
   "source": [
    "t1 = tf.constant([[1,2,3],\n",
    "                [4,5,6]])\n",
    "t2 = tf.constant([[1,2],\n",
    "                 [3,4]])\n",
    "\n",
    "\n",
    "tf.pad(t1,t2,\"CONSTANT\",constant_values=0)"
   ]
  },
  {
   "cell_type": "markdown",
   "id": "240c6ea3-00c9-4da7-b4b3-685fbb88b738",
   "metadata": {},
   "source": [
    "## Gather"
   ]
  },
  {
   "cell_type": "code",
   "execution_count": 103,
   "id": "f39aedaf-7524-4955-99f3-f585cccd396b",
   "metadata": {
    "tags": []
   },
   "outputs": [],
   "source": [
    "params = tf.constant(['p0','p1','p2','p3','p4','p5'])"
   ]
  },
  {
   "cell_type": "code",
   "execution_count": 104,
   "id": "dc78202d-5e4f-4c25-b0f9-4b7188c6ec52",
   "metadata": {
    "tags": []
   },
   "outputs": [
    {
     "data": {
      "text/plain": [
       "<tf.Tensor: shape=(3,), dtype=string, numpy=array([b'p1', b'p2', b'p3'], dtype=object)>"
      ]
     },
     "execution_count": 104,
     "metadata": {},
     "output_type": "execute_result"
    }
   ],
   "source": [
    "tf.gather(params,[1,2,3])"
   ]
  },
  {
   "cell_type": "code",
   "execution_count": 105,
   "id": "2738d869-3649-4984-8c50-2bec9f353970",
   "metadata": {
    "tags": []
   },
   "outputs": [
    {
     "data": {
      "text/plain": [
       "<tf.Tensor: shape=(3,), dtype=string, numpy=array([b'p1', b'p2', b'p3'], dtype=object)>"
      ]
     },
     "execution_count": 105,
     "metadata": {},
     "output_type": "execute_result"
    }
   ],
   "source": [
    "tf.gather(params,tf.range(1,4))"
   ]
  },
  {
   "cell_type": "code",
   "execution_count": 106,
   "id": "567f1750-e1e2-451e-b83c-99192cbd0521",
   "metadata": {
    "tags": []
   },
   "outputs": [],
   "source": [
    "params = tf.constant([[0,1.0,2.0],\n",
    "                      [10.0,11.0,12.0],\n",
    "                      [20.0,21.0,22.0],\n",
    "                      [30.0,31.0,32.0]])"
   ]
  },
  {
   "cell_type": "code",
   "execution_count": 107,
   "id": "5ddfd529-9e7d-42ab-b47e-8a162c89390b",
   "metadata": {
    "tags": []
   },
   "outputs": [
    {
     "data": {
      "text/plain": [
       "<tf.Tensor: shape=(2, 3), dtype=float32, numpy=\n",
       "array([[30., 31., 32.],\n",
       "       [10., 11., 12.]], dtype=float32)>"
      ]
     },
     "execution_count": 107,
     "metadata": {},
     "output_type": "execute_result"
    }
   ],
   "source": [
    "tf.gather(params,[3,1])"
   ]
  },
  {
   "cell_type": "code",
   "execution_count": 109,
   "id": "8c217abf-c556-4217-84ed-ba88b53a4f3d",
   "metadata": {
    "tags": []
   },
   "outputs": [
    {
     "data": {
      "text/plain": [
       "<tf.Tensor: shape=(4, 2), dtype=float32, numpy=\n",
       "array([[ 2.,  1.],\n",
       "       [12., 11.],\n",
       "       [22., 21.],\n",
       "       [32., 31.]], dtype=float32)>"
      ]
     },
     "execution_count": 109,
     "metadata": {},
     "output_type": "execute_result"
    }
   ],
   "source": [
    "tf.gather(params,[2,1],axis=1)"
   ]
  },
  {
   "cell_type": "code",
   "execution_count": 111,
   "id": "3c6b3a88-b02b-4b65-8a01-5f49c485c7c7",
   "metadata": {
    "tags": []
   },
   "outputs": [
    {
     "data": {
      "text/plain": [
       "<tf.Tensor: shape=(1, 2), dtype=string, numpy=array([[b'a', b'b']], dtype=object)>"
      ]
     },
     "execution_count": 111,
     "metadata": {},
     "output_type": "execute_result"
    }
   ],
   "source": [
    "indices = [[0]]\n",
    "params = [['a','b'],\n",
    "          ['c','d']]\n",
    "tf.gather_nd(params,indices)"
   ]
  },
  {
   "cell_type": "code",
   "execution_count": 112,
   "id": "6f9d79cd-477a-4040-b9fe-c4e793c32acb",
   "metadata": {
    "tags": []
   },
   "outputs": [
    {
     "data": {
      "text/plain": [
       "<tf.Tensor: shape=(2, 2), dtype=string, numpy=\n",
       "array([[b'a', b'b'],\n",
       "       [b'c', b'd']], dtype=object)>"
      ]
     },
     "execution_count": 112,
     "metadata": {},
     "output_type": "execute_result"
    }
   ],
   "source": [
    "indices = [[0],\n",
    "           [1]]\n",
    "params = [['a','b'],\n",
    "          ['c','d']]\n",
    "tf.gather_nd(params,indices)"
   ]
  },
  {
   "cell_type": "code",
   "execution_count": 113,
   "id": "69ba18d3-a841-4280-94dc-5551ffcfd7df",
   "metadata": {
    "tags": []
   },
   "outputs": [
    {
     "data": {
      "text/plain": [
       "<tf.Tensor: shape=(), dtype=string, numpy=b'd'>"
      ]
     },
     "execution_count": 113,
     "metadata": {},
     "output_type": "execute_result"
    }
   ],
   "source": [
    "indices = [1,1]\n",
    "params = [['a','b'],\n",
    "          ['c','d']]\n",
    "tf.gather_nd(params,indices)"
   ]
  },
  {
   "cell_type": "markdown",
   "id": "f551fc71-469c-4550-944d-5f181199a251",
   "metadata": {},
   "source": [
    "# Ragged Tensors"
   ]
  },
  {
   "cell_type": "markdown",
   "id": "ff29fc84-15f0-4e56-a712-b139391d3c7b",
   "metadata": {},
   "source": [
    "#### A ragged tensor is simply a non rectangular tensor which has different number of columns in each row"
   ]
  },
  {
   "cell_type": "code",
   "execution_count": 114,
   "id": "00210d69-47c6-4715-b346-d7ee43fae24f",
   "metadata": {
    "tags": []
   },
   "outputs": [
    {
     "name": "stdout",
     "output_type": "stream",
     "text": [
      "<tf.RaggedTensor [[1, 2, 0], [3], [1, 5, 6, 5, 6], [2, 3]]>\n"
     ]
    }
   ],
   "source": [
    "tensor_ragged = tf.ragged.constant([[1,2,0],\n",
    "                                    [3],\n",
    "                                    [1,5,6,5,6],\n",
    "                                    [2,3]])\n",
    "print(tensor_ragged)"
   ]
  },
  {
   "cell_type": "code",
   "execution_count": 115,
   "id": "7d48ef66-bb22-41b4-aea3-b87748e0b7c5",
   "metadata": {
    "tags": []
   },
   "outputs": [
    {
     "name": "stdout",
     "output_type": "stream",
     "text": [
      "<tf.RaggedTensor [[3, 1, 4, 1], [], [5, 9, 2], [6], []]>\n"
     ]
    }
   ],
   "source": [
    "print(tf.RaggedTensor.from_row_lengths(\n",
    "    values=[3,1,4,1,5,9,2,6],\n",
    "    row_lengths=[4,0,3,1,0]))"
   ]
  },
  {
   "cell_type": "markdown",
   "id": "982fec0e-1c9d-4d3c-930d-19e5e3a29f06",
   "metadata": {},
   "source": [
    "# Sparse Tensors"
   ]
  },
  {
   "cell_type": "markdown",
   "id": "06bdb77c-77ab-4485-8d77-6cfcab331cb5",
   "metadata": {},
   "source": [
    "#### Sparse tensors are simply tensors which has mostly zero as its elements"
   ]
  },
  {
   "cell_type": "code",
   "execution_count": 116,
   "id": "8a149e39-c111-4893-9fd0-19df4414b843",
   "metadata": {
    "tags": []
   },
   "outputs": [],
   "source": [
    "tensor_sparse = tf.sparse.SparseTensor(\n",
    "    indices=[[1,1],[3,4]],\n",
    "    values=[11,56],\n",
    "    dense_shape=[5,6])"
   ]
  },
  {
   "cell_type": "code",
   "execution_count": 117,
   "id": "f046a56c-f6ec-4daf-9254-14479ec5bf90",
   "metadata": {
    "tags": []
   },
   "outputs": [
    {
     "name": "stdout",
     "output_type": "stream",
     "text": [
      "SparseTensor(indices=tf.Tensor(\n",
      "[[1 1]\n",
      " [3 4]], shape=(2, 2), dtype=int64), values=tf.Tensor([11 56], shape=(2,), dtype=int32), dense_shape=tf.Tensor([5 6], shape=(2,), dtype=int64))\n"
     ]
    }
   ],
   "source": [
    "print(tensor_sparse)"
   ]
  },
  {
   "cell_type": "code",
   "execution_count": 118,
   "id": "8c28a161-b0db-4221-98eb-90ebcdbc24a7",
   "metadata": {
    "tags": []
   },
   "outputs": [
    {
     "name": "stdout",
     "output_type": "stream",
     "text": [
      "tf.Tensor(\n",
      "[[ 0  0  0  0  0  0]\n",
      " [ 0 11  0  0  0  0]\n",
      " [ 0  0  0  0  0  0]\n",
      " [ 0  0  0  0 56  0]\n",
      " [ 0  0  0  0  0  0]], shape=(5, 6), dtype=int32)\n"
     ]
    }
   ],
   "source": [
    "print(tf.sparse.to_dense(tensor_sparse))"
   ]
  },
  {
   "cell_type": "markdown",
   "id": "d7ce7ead-2503-4d07-956a-91611a3c2cb1",
   "metadata": {},
   "source": [
    "# String Tensors"
   ]
  },
  {
   "cell_type": "code",
   "execution_count": 119,
   "id": "ec3544d9-3183-48e1-adcf-b4e960a55a4f",
   "metadata": {
    "tags": []
   },
   "outputs": [],
   "source": [
    "tensor_string =  tf.constant([\"hello\",\"I\",\"am\",\"a\",\"string\"])"
   ]
  },
  {
   "cell_type": "code",
   "execution_count": 120,
   "id": "71c63f5e-2e56-42a6-8ec3-c67424deaafa",
   "metadata": {
    "tags": []
   },
   "outputs": [
    {
     "name": "stdout",
     "output_type": "stream",
     "text": [
      "tf.Tensor([b'hello' b'I' b'am' b'a' b'string'], shape=(5,), dtype=string)\n"
     ]
    }
   ],
   "source": [
    "print(tensor_string)"
   ]
  },
  {
   "cell_type": "code",
   "execution_count": 124,
   "id": "06542944-6ecb-4363-9fb6-7433705ebae8",
   "metadata": {
    "tags": []
   },
   "outputs": [
    {
     "name": "stdout",
     "output_type": "stream",
     "text": [
      "tf.Tensor(b'hello I am a string', shape=(), dtype=string)\n"
     ]
    }
   ],
   "source": [
    "print(tf.strings.join(tensor_string,separator=\" \"))"
   ]
  },
  {
   "cell_type": "markdown",
   "id": "b44ee831-a44d-4b0c-b325-5008a4b5b347",
   "metadata": {},
   "source": [
    "# Variables"
   ]
  },
  {
   "cell_type": "code",
   "execution_count": 125,
   "id": "24436124-800a-4677-8288-19e7d461f720",
   "metadata": {
    "tags": []
   },
   "outputs": [],
   "source": [
    "x = tf.constant([1,2])"
   ]
  },
  {
   "cell_type": "code",
   "execution_count": 127,
   "id": "3394d98a-4bbd-4110-b251-43bade1f5e7b",
   "metadata": {
    "tags": []
   },
   "outputs": [
    {
     "name": "stdout",
     "output_type": "stream",
     "text": [
      "<tf.Variable 'var1:0' shape=(2,) dtype=int32, numpy=array([1, 2])>\n"
     ]
    }
   ],
   "source": [
    "x_var =  tf.Variable(x,name=\"var1\")\n",
    "print(x_var)"
   ]
  },
  {
   "cell_type": "code",
   "execution_count": 128,
   "id": "dfa7c0a6-b151-4436-9292-3ca3549a1ffb",
   "metadata": {
    "tags": []
   },
   "outputs": [
    {
     "data": {
      "text/plain": [
       "<tf.Variable 'UnreadVariable' shape=(2,) dtype=int32, numpy=array([-2, -2])>"
      ]
     },
     "execution_count": 128,
     "metadata": {},
     "output_type": "execute_result"
    }
   ],
   "source": [
    "x_var.assign_sub([3,4])"
   ]
  },
  {
   "cell_type": "code",
   "execution_count": 130,
   "id": "102b7d33-2ced-4f85-8cb1-200f0a3ac8e8",
   "metadata": {
    "tags": []
   },
   "outputs": [
    {
     "name": "stdout",
     "output_type": "stream",
     "text": [
      "/job:localhost/replica:0/task:0/device:GPU:0\n"
     ]
    }
   ],
   "source": [
    "with tf.device('GPU:0'):\n",
    "    x_var =  tf.Variable(0.2)\n",
    "    \n",
    "print(x_var.device)"
   ]
  },
  {
   "cell_type": "code",
   "execution_count": 131,
   "id": "5ef6eca5-6d76-4c1f-bfb5-95b384a7e12a",
   "metadata": {
    "tags": []
   },
   "outputs": [
    {
     "name": "stdout",
     "output_type": "stream",
     "text": [
      "<function device_v2 at 0x0000028B66558310>\n"
     ]
    }
   ],
   "source": []
  },
  {
   "cell_type": "code",
   "execution_count": null,
   "id": "f5e8ccc2-7172-4ae5-bbfb-c04e52efab1c",
   "metadata": {},
   "outputs": [],
   "source": []
  }
 ],
 "metadata": {
  "kernelspec": {
   "display_name": "Python 3 (ipykernel)",
   "language": "python",
   "name": "python3"
  },
  "language_info": {
   "codemirror_mode": {
    "name": "ipython",
    "version": 3
   },
   "file_extension": ".py",
   "mimetype": "text/x-python",
   "name": "python",
   "nbconvert_exporter": "python",
   "pygments_lexer": "ipython3",
   "version": "3.9.17"
  }
 },
 "nbformat": 4,
 "nbformat_minor": 5
}
